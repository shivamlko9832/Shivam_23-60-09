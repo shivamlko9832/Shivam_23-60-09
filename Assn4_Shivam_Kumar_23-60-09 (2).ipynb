{
 "cells": [
  {
   "cell_type": "code",
   "execution_count": null,
   "id": "d4f4592f",
   "metadata": {},
   "outputs": [],
   "source": [
    "import pandas as pd"
   ]
  },
  {
   "cell_type": "markdown",
   "id": "49aedde5",
   "metadata": {},
   "source": [
    "# Ans.1"
   ]
  },
  {
   "cell_type": "code",
   "execution_count": null,
   "id": "5577a12d",
   "metadata": {},
   "outputs": [],
   "source": [
    "df = pd.read_csv(\"C:\\\\Users\\\\shiva\\\\Downloads\\\\housingdata.csv\")\n",
    "df.head(6)"
   ]
  },
  {
   "cell_type": "markdown",
   "id": "3638a775",
   "metadata": {},
   "source": [
    "# Ans.2"
   ]
  },
  {
   "cell_type": "code",
   "execution_count": null,
   "id": "77899d6b",
   "metadata": {},
   "outputs": [],
   "source": [
    "list(df.columns)"
   ]
  },
  {
   "cell_type": "code",
   "execution_count": null,
   "id": "48271717",
   "metadata": {},
   "outputs": [],
   "source": [
    "for row in df.index:\n",
    "    print(row,end= \" \")"
   ]
  },
  {
   "cell_type": "markdown",
   "id": "43acc186",
   "metadata": {},
   "source": [
    "# Ans.3"
   ]
  },
  {
   "cell_type": "code",
   "execution_count": null,
   "id": "3cd861d8",
   "metadata": {},
   "outputs": [],
   "source": [
    "df['STATE'].shape"
   ]
  },
  {
   "cell_type": "code",
   "execution_count": null,
   "id": "97f8ac5a",
   "metadata": {},
   "outputs": [],
   "source": [
    "df['STATE'].nunique()"
   ]
  },
  {
   "cell_type": "markdown",
   "id": "c30b3ff6",
   "metadata": {},
   "source": [
    "# Ans.4"
   ]
  },
  {
   "cell_type": "code",
   "execution_count": null,
   "id": "84b0f060",
   "metadata": {},
   "outputs": [],
   "source": [
    "df.isnull().any()"
   ]
  },
  {
   "cell_type": "markdown",
   "id": "94e18136",
   "metadata": {},
   "source": [
    "# Ans.5"
   ]
  },
  {
   "cell_type": "code",
   "execution_count": null,
   "id": "4720a295",
   "metadata": {},
   "outputs": [],
   "source": [
    "df.dropna(subset=['NUM_BEDROOMS'])"
   ]
  },
  {
   "cell_type": "markdown",
   "id": "60a3be9d",
   "metadata": {},
   "source": [
    "# Ans.6"
   ]
  },
  {
   "cell_type": "code",
   "execution_count": null,
   "id": "8ab99e4c",
   "metadata": {},
   "outputs": [],
   "source": [
    "for i in range(1, len(df)):\n",
    "    if pd.isna(df.at[i, 'NUM_BATH']) or isinstance(df.at[i, 'NUM_BATH'], str):\n",
    "        df.at[i, 'NUM_BATH'] = df.at[i - 1, 'NUM_BATH']\n",
    "df['NUM_BATH'] = df['NUM_BATH'].astype(float)\n",
    "print(df)"
   ]
  },
  {
   "cell_type": "markdown",
   "id": "018d780b",
   "metadata": {},
   "source": [
    "# Ans.7"
   ]
  },
  {
   "cell_type": "code",
   "execution_count": null,
   "id": "9340270b",
   "metadata": {},
   "outputs": [],
   "source": [
    "df['SQ_FT'] = pd.to_numeric(df['SQ_FT'], errors='coerce')\n",
    "mean_sq_ft = df['SQ_FT'].mean()\n",
    "df['SQ_FT'].fillna(mean_sq_ft, inplace=True)\n",
    "print(df)"
   ]
  },
  {
   "cell_type": "markdown",
   "id": "aa9db35b",
   "metadata": {},
   "source": [
    "# Ans.8"
   ]
  },
  {
   "cell_type": "code",
   "execution_count": null,
   "id": "49f3f3c5",
   "metadata": {},
   "outputs": [],
   "source": [
    "sq_ft_sum = df['SQ_FT'].sum()\n",
    "print('Sum of SQ_FT is',sq_ft_sum)"
   ]
  },
  {
   "cell_type": "markdown",
   "id": "90e80c6e",
   "metadata": {},
   "source": [
    "# Ans.9"
   ]
  },
  {
   "cell_type": "code",
   "execution_count": null,
   "id": "f43c7c3e",
   "metadata": {},
   "outputs": [],
   "source": [
    "df['NUM_STORE'] = 1\n",
    "print(df)"
   ]
  },
  {
   "cell_type": "markdown",
   "id": "9126d582",
   "metadata": {},
   "source": [
    "# Ans.10"
   ]
  },
  {
   "cell_type": "code",
   "execution_count": null,
   "id": "73d9f9c5",
   "metadata": {},
   "outputs": [],
   "source": [
    "tn_df = df[df['STATE'] == 'TN']\n",
    "print(tn_df)"
   ]
  },
  {
   "cell_type": "markdown",
   "id": "50130d9c",
   "metadata": {},
   "source": [
    "# Ans.14"
   ]
  },
  {
   "cell_type": "code",
   "execution_count": null,
   "id": "a7a9f3c4",
   "metadata": {},
   "outputs": [],
   "source": [
    "greater_df = df[df['SQ_FT'] > 1000]\n",
    "print(greater_df)"
   ]
  },
  {
   "cell_type": "markdown",
   "id": "051f80dc",
   "metadata": {},
   "source": [
    "# Ans.15"
   ]
  },
  {
   "cell_type": "code",
   "execution_count": null,
   "id": "b985b188",
   "metadata": {},
   "outputs": [],
   "source": [
    "new_df = df.iloc[:3, :3]\n",
    "print(new_df)"
   ]
  }
 ],
 "metadata": {
  "kernelspec": {
   "display_name": "Python 3 (ipykernel)",
   "language": "python",
   "name": "python3"
  },
  "language_info": {
   "codemirror_mode": {
    "name": "ipython",
    "version": 3
   },
   "file_extension": ".py",
   "mimetype": "text/x-python",
   "name": "python",
   "nbconvert_exporter": "python",
   "pygments_lexer": "ipython3",
   "version": "3.11.4"
  }
 },
 "nbformat": 4,
 "nbformat_minor": 5
}
